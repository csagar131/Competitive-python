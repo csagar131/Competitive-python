{
 "cells": [
  {
   "cell_type": "code",
   "execution_count": 1,
   "metadata": {},
   "outputs": [
    {
     "name": "stdout",
     "output_type": "stream",
     "text": [
      "120\n"
     ]
    }
   ],
   "source": [
    "# factorial tail recursion\n",
    "def fun(n,k=1):\n",
    "    if n==0:\n",
    "        return k\n",
    "    return fun(n-1,n*k)\n",
    "print(fun(5))"
   ]
  },
  {
   "cell_type": "code",
   "execution_count": 5,
   "metadata": {},
   "outputs": [
    {
     "name": "stdout",
     "output_type": "stream",
     "text": [
      "False\n"
     ]
    }
   ],
   "source": [
    "#check palindrom\n",
    "def fun(str,s,e):\n",
    "    if str[s] != str[e]:\n",
    "        return False\n",
    "    elif s>=e:\n",
    "        return True\n",
    "    else:\n",
    "        return fun(str,s+1,e-1)\n",
    "str = 'abcb'\n",
    "print(fun(str,0,len(str)-1))"
   ]
  },
  {
   "cell_type": "code",
   "execution_count": 7,
   "metadata": {},
   "outputs": [
    {
     "name": "stdout",
     "output_type": "stream",
     "text": [
      "6\n"
     ]
    }
   ],
   "source": [
    "# sum of digits\n",
    "def fun(n):\n",
    "    if n < 10:\n",
    "        return n\n",
    "    return fun(n//10) + n%10\n",
    "print(fun(123))"
   ]
  },
  {
   "cell_type": "code",
   "execution_count": null,
   "metadata": {},
   "outputs": [],
   "source": []
  }
 ],
 "metadata": {
  "kernelspec": {
   "display_name": "Python 3",
   "language": "python",
   "name": "python3"
  },
  "language_info": {
   "codemirror_mode": {
    "name": "ipython",
    "version": 3
   },
   "file_extension": ".py",
   "mimetype": "text/x-python",
   "name": "python",
   "nbconvert_exporter": "python",
   "pygments_lexer": "ipython3",
   "version": "3.7.0"
  }
 },
 "nbformat": 4,
 "nbformat_minor": 2
}
