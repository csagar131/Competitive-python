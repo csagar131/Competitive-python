{
 "cells": [
  {
   "cell_type": "code",
   "execution_count": 10,
   "metadata": {},
   "outputs": [
    {
     "name": "stdout",
     "output_type": "stream",
     "text": [
      "1\n"
     ]
    }
   ],
   "source": [
    "#delete duplicate element in a sorted array\n",
    "def fun(lst):\n",
    "    res = 1\n",
    "    for i in range(1,len(lst)):\n",
    "        if lst[res] != lst[i-1]:\n",
    "            lst[res] = lst[i] \n",
    "            res+=1\n",
    "    return res\n",
    "    \n",
    "print(fun([10,10,10]))"
   ]
  },
  {
   "cell_type": "code",
   "execution_count": 13,
   "metadata": {},
   "outputs": [
    {
     "name": "stdout",
     "output_type": "stream",
     "text": [
      "[5, 20, 30]\n"
     ]
    }
   ],
   "source": [
    "#left rotate array by\n",
    "def fun(lst):\n",
    "    temp = lst[0]\n",
    "    for i in range(1,len(lst)):\n",
    "        lst[i-1] = lst[i]\n",
    "    else:\n",
    "        lst[len(lst)-1] = temp\n",
    "        return lst\n",
    "\n",
    "print(fun([30,5,20]))"
   ]
  },
  {
   "cell_type": "code",
   "execution_count": 22,
   "metadata": {},
   "outputs": [
    {
     "name": "stdout",
     "output_type": "stream",
     "text": [
      "[3, 4, 5, 1, 2]\n"
     ]
    }
   ],
   "source": [
    "#left rotate array by k\n",
    "def fun(lst,k):\n",
    "    temp = [0] * k\n",
    "    for i in range(k):\n",
    "        temp[i] = lst[i]\n",
    "    for i in range(k,len(lst)):\n",
    "        lst[i-k] = lst[i]\n",
    "    for i in range(k):\n",
    "        lst[len(lst)-k+i] = temp[i]\n",
    "    return lst\n",
    "\n",
    "print(fun([1,2,3,4,5],2))\n",
    "    "
   ]
  },
  {
   "cell_type": "code",
   "execution_count": null,
   "metadata": {},
   "outputs": [],
   "source": [
    "#left rotate array by k \n",
    "#time complexity theta(n) auxillary space theta(1)"
   ]
  },
  {
   "cell_type": "code",
   "execution_count": 31,
   "metadata": {},
   "outputs": [
    {
     "name": "stdout",
     "output_type": "stream",
     "text": [
      "[3, 4, 5, 1, 2]\n"
     ]
    }
   ],
   "source": [
    "def reverse(lst,start,end):\n",
    "    while start<end:\n",
    "        lst[start],lst[end] = lst[end],lst[start]\n",
    "        start+=1\n",
    "        end-=1\n",
    "    \n",
    "def fun(lst,k):\n",
    "    reverse(lst,0,k-1)\n",
    "    reverse(lst,k,len(lst)-1)\n",
    "    reverse(lst,0,len(lst)-1)\n",
    "    return lst\n",
    "\n",
    "print(fun([1,2,3,4,5],2))"
   ]
  },
  {
   "cell_type": "code",
   "execution_count": 4,
   "metadata": {},
   "outputs": [
    {
     "name": "stdout",
     "output_type": "stream",
     "text": [
      "2\n",
      "5\n",
      "6\n",
      "10\n",
      "12\n"
     ]
    }
   ],
   "source": [
    "#leaders in an array  theta(n)\n",
    "def fun(lst):\n",
    "    curr_leader = lst[len(lst)-1]\n",
    "    print(curr_leader)\n",
    "    for i in range(len(lst)-1,-1,-1):\n",
    "        if lst[i] > curr_leader:\n",
    "            curr_leader = lst[i]\n",
    "            print(curr_leader)\n",
    "    \n",
    "fun([11,12,7,10,4,10,6,5,2])"
   ]
  },
  {
   "cell_type": "code",
   "execution_count": 8,
   "metadata": {},
   "outputs": [
    {
     "name": "stdout",
     "output_type": "stream",
     "text": [
      "8\n"
     ]
    }
   ],
   "source": [
    "#maximum difference problem theta(n)\n",
    "def fun(lst):\n",
    "    res = lst[1] - lst[0]\n",
    "    mn = lst[0]\n",
    "    for i in range(1,len(lst)):\n",
    "        mnn = min(mn,lst[i])\n",
    "        res = max(res,lst[i]-mn)\n",
    "    return res\n",
    "\n",
    "print(fun([2,3,10,6,4,8,1]))"
   ]
  },
  {
   "cell_type": "code",
   "execution_count": 1,
   "metadata": {},
   "outputs": [
    {
     "name": "stdout",
     "output_type": "stream",
     "text": [
      "13\n"
     ]
    }
   ],
   "source": [
    "#stoke buy and sell\n",
    "def fun(prices):\n",
    "    profit = 0\n",
    "    for i in range(1,len(prices)):\n",
    "        if prices[i] > prices[i-1]:\n",
    "            profit+= prices[i] - prices[i-1]\n",
    "    else:\n",
    "        return profit\n",
    "    \n",
    "print(fun([1,5,3,8,12]))  # max profit is 13"
   ]
  },
  {
   "cell_type": "code",
   "execution_count": 7,
   "metadata": {},
   "outputs": [
    {
     "name": "stdout",
     "output_type": "stream",
     "text": [
      "6\n"
     ]
    }
   ],
   "source": [
    "#trapping the rain water efficient solution theta(n)\n",
    "\n",
    "def trapping_rain(blocks):\n",
    "    lmax = [0] * len(blocks)\n",
    "    rmax = [0] * len(blocks)\n",
    "    res = 0\n",
    "    lmax[0] = blocks[0]\n",
    "    for i in range(1,len(blocks)):\n",
    "        lmax[i] = max(blocks[i],blocks[i-1])\n",
    "        \n",
    "    rmax[len(blocks)-1] = blocks[len(blocks)-1]\n",
    "    for i in range(len(blocks)-2,0,-1):\n",
    "        rmax[i] = max(blocks[i],blocks[i+1])\n",
    "        \n",
    "    for i in range(1,len(blocks)-1):\n",
    "        res+=min(lmax[i],rmax[i]) - blocks[i]\n",
    "        \n",
    "    return res\n",
    "\n",
    "print(trapping_rain([5,0,6,2,3]))"
   ]
  }
 ],
 "metadata": {
  "kernelspec": {
   "display_name": "Python 3",
   "language": "python",
   "name": "python3"
  },
  "language_info": {
   "codemirror_mode": {
    "name": "ipython",
    "version": 3
   },
   "file_extension": ".py",
   "mimetype": "text/x-python",
   "name": "python",
   "nbconvert_exporter": "python",
   "pygments_lexer": "ipython3",
   "version": "3.7.0"
  }
 },
 "nbformat": 4,
 "nbformat_minor": 2
}
