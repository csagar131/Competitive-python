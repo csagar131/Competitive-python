{
 "cells": [
  {
   "cell_type": "code",
   "execution_count": null,
   "metadata": {},
   "outputs": [],
   "source": [
    "#day -----------> 1\n",
    "\n",
    "#Given a non-empty array of integers, every element appears twice except for one. Find that single one.\n",
    "\n",
    "def singleNumber(self, nums: List[int]) -> int:\n",
    "    for i in nums:\n",
    "        if nums.count(i) == 1:\n",
    "            return i\n",
    "        else:\n",
    "            continue"
   ]
  },
  {
   "cell_type": "code",
   "execution_count": null,
   "metadata": {},
   "outputs": [],
   "source": [
    "#day --------------> 2\n",
    "'''\n",
    "Write an algorithm to determine if a number is \"happy\".\n",
    "\n",
    "A happy number is a number defined by the following process: Starting with any positive integer, replace the number by the sum of the squares of its digits, and repeat the process until the number equals 1 (where it will stay), or it loops endlessly in a cycle which does not include 1. Those numbers for which this process ends in 1 are happy numbers.\n",
    "'''\n",
    "\n",
    "def isHappy(self, n: int) -> bool:\n",
    "    sum = 0\n",
    "    lst = []\n",
    "    while True:\n",
    "        while n:\n",
    "            r = n % 10\n",
    "            sum+=r*r\n",
    "            n=n // 10\n",
    "        else:\n",
    "            if sum == 1:\n",
    "                return True\n",
    "            else:\n",
    "                if sum in lst:\n",
    "                    break\n",
    "                lst.append(sum)\n",
    "                n = sum\n",
    "                sum = 0"
   ]
  },
  {
   "cell_type": "code",
   "execution_count": null,
   "metadata": {},
   "outputs": [],
   "source": [
    "#day --------------> 3\n",
    "'''\n",
    "maximum subarray solved using kadane's algorithm\n",
    "'''\n",
    "\n",
    "def maxSubArray(self, nums: List[int]) -> int:\n",
    "    mx_current = mx_globle = nums[0]\n",
    "    for i in range(1,len(nums)):\n",
    "        mx_current = max(nums[i],mx_current + nums[i])\n",
    "        if mx_current > mx_globle:\n",
    "            mx_globle = mx_current\n",
    "    else:\n",
    "        return mx_globle"
   ]
  },
  {
   "cell_type": "code",
   "execution_count": null,
   "metadata": {},
   "outputs": [],
   "source": [
    "#day ---------------> 4\n",
    "'''\n",
    "Given an array nums, write a function to move all 0's to the end of it while maintaining the relative order of the non-zero elements.\n",
    "'''\n",
    "\n"
   ]
  }
 ],
 "metadata": {
  "kernelspec": {
   "display_name": "Python 3",
   "language": "python",
   "name": "python3"
  },
  "language_info": {
   "codemirror_mode": {
    "name": "ipython",
    "version": 3
   },
   "file_extension": ".py",
   "mimetype": "text/x-python",
   "name": "python",
   "nbconvert_exporter": "python",
   "pygments_lexer": "ipython3",
   "version": "3.7.0"
  }
 },
 "nbformat": 4,
 "nbformat_minor": 2
}
